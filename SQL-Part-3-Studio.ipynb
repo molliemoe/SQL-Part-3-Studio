{
    "metadata": {
        "kernelspec": {
            "name": "SQL",
            "display_name": "SQL",
            "language": "sql"
        },
        "language_info": {
            "name": "sql",
            "version": ""
        },
        "extensions": {
            "azuredatastudio": {
                "version": 1,
                "views": []
            }
        }
    },
    "nbformat_minor": 2,
    "nbformat": 4,
    "cells": [
        {
            "cell_type": "markdown",
            "source": [
                "# SQL Part 3 Studio\n",
                "\n",
                "### Let's practice your SQL quering skills!  For each question, work along in the notebook adding your query and answering the questions. \n",
                "\n",
                "### **DataSet**\n",
                "\n",
                "### <span style=\"font-size: 14px; font-family: -apple-system, BlinkMacSystemFont, sans-serif;\">We will be using the Goodbooks-10k dataset from the exercises in the prep work.&nbsp; Feel free reference your previous notebooks.</span>\n",
                "\n",
                "- The dataset can be found here: [goodbooks-10k](https://www.kaggle.com/zygmunt/goodbooks-10k)\n",
                "- You can access the **BooksDB** in the Launchcode server.\n",
                "\n",
                "### **Business Issue**\n",
                "\n",
                "You are an employee at a small independet bookstore and you have been tasked to increase sales.  You decide to use the BooksDB to find books and themes to highlight in fun promotions throughout each month / season.  We will be starting with March and then you will have a chance to explore another month of your choosing.  We want to come up with a list of events/ promotions to run each month.  If you are looking for ideas to include in your promotions:\n",
                "\n",
                "- [https://www.calendarr.com/united-states/calendar-2022/](https://www.calendarr.com/united-states/calendar-2022/)\n",
                "- [https://www.holidayinsights.com/moreholidays/](https://www.holidayinsights.com/moreholidays/)\n",
                "    - Click on a month and it will take you to a more detailed page"
            ],
            "metadata": {
                "azdata_cell_guid": "b9034d8a-b631-48bf-a895-1012a6ffa784"
            },
            "attachments": {}
        },
        {
            "cell_type": "markdown",
            "source": [
                "## Part 1:  March - Women's History Month, Dr Seuss Day(3/2), National Pie Day3/14, St Patrick's Day (3/17), Season - Spring"
            ],
            "metadata": {
                "azdata_cell_guid": "6e55eb1c-4a14-4076-90d2-95ed17a6309f"
            },
            "attachments": {}
        },
        {
            "cell_type": "markdown",
            "source": [
                "### **Event 1:** Women's History Month\n",
                "\n",
                "Goal: Highlight Popular Womans Authors based on ratings from the Good Reads DB.\n",
                "\n",
                "### **Write a query that returns tag\\_id, the number of times each tag\\_id is used and the tag\\_name.**  \n",
                "\n",
                "### Use the GROUP BY and HAVING clause to narrow your focus.\n",
                "\n",
                "Try multiple keywords, ie woman vs female (female ended up giving better results)"
            ],
            "metadata": {
                "azdata_cell_guid": "d220c097-e9cf-4edd-9abe-312d071217b7"
            },
            "attachments": {}
        },
        {
            "cell_type": "code",
            "source": [
                "-- Solution\r\n",
                "USE BooksDB\r\n",
                "SELECT \r\n",
                "    tag_id,\r\n",
                "    COUNT(tag_id) AS n_tag_id,\r\n",
                "    tag_name \r\n",
                "FROM dbo.tags\r\n",
                "GROUP BY tag_id, tag_name\r\n",
                "HAVING tag_name LIKE '%female%'"
            ],
            "metadata": {
                "azdata_cell_guid": "e31b9d26-0386-44c7-828e-85f4f06f3ee6",
                "language": "sql"
            },
            "outputs": [
                {
                    "output_type": "display_data",
                    "data": {
                        "text/html": "(35 rows affected)"
                    },
                    "metadata": {}
                },
                {
                    "output_type": "display_data",
                    "data": {
                        "text/html": "Total execution time: 00:00:00.103"
                    },
                    "metadata": {}
                },
                {
                    "output_type": "execute_result",
                    "metadata": {},
                    "execution_count": 31,
                    "data": {
                        "application/vnd.dataresource+json": {
                            "schema": {
                                "fields": [
                                    {
                                        "name": "tag_id"
                                    },
                                    {
                                        "name": "n_tag_id"
                                    },
                                    {
                                        "name": "tag_name"
                                    }
                                ]
                            },
                            "data": [
                                {
                                    "tag_id": "1741",
                                    "n_tag_id": "1",
                                    "tag_name": "afghan-female-entrepreneur-under-ta"
                                },
                                {
                                    "tag_id": "3514",
                                    "n_tag_id": "1",
                                    "tag_name": "author-female"
                                },
                                {
                                    "tag_id": "4309",
                                    "n_tag_id": "1",
                                    "tag_name": "best-adult-female-friendship-books"
                                },
                                {
                                    "tag_id": "11642",
                                    "n_tag_id": "1",
                                    "tag_name": "female"
                                },
                                {
                                    "tag_id": "11643",
                                    "n_tag_id": "1",
                                    "tag_name": "female-author"
                                },
                                {
                                    "tag_id": "11644",
                                    "n_tag_id": "1",
                                    "tag_name": "female-authors"
                                },
                                {
                                    "tag_id": "11645",
                                    "n_tag_id": "1",
                                    "tag_name": "female-biographies"
                                },
                                {
                                    "tag_id": "11646",
                                    "n_tag_id": "1",
                                    "tag_name": "female-detective"
                                },
                                {
                                    "tag_id": "11647",
                                    "n_tag_id": "1",
                                    "tag_name": "female-detectives"
                                },
                                {
                                    "tag_id": "11648",
                                    "n_tag_id": "1",
                                    "tag_name": "female-doctor"
                                },
                                {
                                    "tag_id": "11649",
                                    "n_tag_id": "1",
                                    "tag_name": "female-fiction"
                                },
                                {
                                    "tag_id": "11650",
                                    "n_tag_id": "1",
                                    "tag_name": "female-friendship"
                                },
                                {
                                    "tag_id": "11651",
                                    "n_tag_id": "1",
                                    "tag_name": "female-genre-authors"
                                },
                                {
                                    "tag_id": "11652",
                                    "n_tag_id": "1",
                                    "tag_name": "female-lead"
                                },
                                {
                                    "tag_id": "11653",
                                    "n_tag_id": "1",
                                    "tag_name": "female-main-character"
                                },
                                {
                                    "tag_id": "11654",
                                    "n_tag_id": "1",
                                    "tag_name": "female-persuasion"
                                },
                                {
                                    "tag_id": "11655",
                                    "n_tag_id": "1",
                                    "tag_name": "female-pi"
                                },
                                {
                                    "tag_id": "11656",
                                    "n_tag_id": "1",
                                    "tag_name": "female-pov"
                                },
                                {
                                    "tag_id": "11657",
                                    "n_tag_id": "1",
                                    "tag_name": "female-povs"
                                },
                                {
                                    "tag_id": "11658",
                                    "n_tag_id": "1",
                                    "tag_name": "female-protagonist"
                                },
                                {
                                    "tag_id": "11659",
                                    "n_tag_id": "1",
                                    "tag_name": "female-serial-killer"
                                },
                                {
                                    "tag_id": "11660",
                                    "n_tag_id": "1",
                                    "tag_name": "female-spy"
                                },
                                {
                                    "tag_id": "11661",
                                    "n_tag_id": "1",
                                    "tag_name": "female-writer"
                                },
                                {
                                    "tag_id": "11662",
                                    "n_tag_id": "1",
                                    "tag_name": "female-writers"
                                },
                                {
                                    "tag_id": "15331",
                                    "n_tag_id": "1",
                                    "tag_name": "important-female-authors"
                                },
                                {
                                    "tag_id": "17079",
                                    "n_tag_id": "1",
                                    "tag_name": "kick-ass-female"
                                },
                                {
                                    "tag_id": "24455",
                                    "n_tag_id": "1",
                                    "tag_name": "protagonist-female"
                                },
                                {
                                    "tag_id": "28830",
                                    "n_tag_id": "1",
                                    "tag_name": "strong-female"
                                },
                                {
                                    "tag_id": "28831",
                                    "n_tag_id": "1",
                                    "tag_name": "strong-female-character"
                                },
                                {
                                    "tag_id": "28832",
                                    "n_tag_id": "1",
                                    "tag_name": "strong-female-character-s"
                                },
                                {
                                    "tag_id": "28833",
                                    "n_tag_id": "1",
                                    "tag_name": "strong-female-characters"
                                },
                                {
                                    "tag_id": "28834",
                                    "n_tag_id": "1",
                                    "tag_name": "strong-female-lead"
                                },
                                {
                                    "tag_id": "28835",
                                    "n_tag_id": "1",
                                    "tag_name": "strong-female-protagonist"
                                },
                                {
                                    "tag_id": "28836",
                                    "n_tag_id": "1",
                                    "tag_name": "strong-female-supporting-characters"
                                },
                                {
                                    "tag_id": "29324",
                                    "n_tag_id": "1",
                                    "tag_name": "tbr-ax-female"
                                }
                            ]
                        },
                        "text/html": [
                            "<table>",
                            "<tr><th>tag_id</th><th>n_tag_id</th><th>tag_name</th></tr>",
                            "<tr><td>1741</td><td>1</td><td>afghan-female-entrepreneur-under-ta</td></tr>",
                            "<tr><td>3514</td><td>1</td><td>author-female</td></tr>",
                            "<tr><td>4309</td><td>1</td><td>best-adult-female-friendship-books</td></tr>",
                            "<tr><td>11642</td><td>1</td><td>female</td></tr>",
                            "<tr><td>11643</td><td>1</td><td>female-author</td></tr>",
                            "<tr><td>11644</td><td>1</td><td>female-authors</td></tr>",
                            "<tr><td>11645</td><td>1</td><td>female-biographies</td></tr>",
                            "<tr><td>11646</td><td>1</td><td>female-detective</td></tr>",
                            "<tr><td>11647</td><td>1</td><td>female-detectives</td></tr>",
                            "<tr><td>11648</td><td>1</td><td>female-doctor</td></tr>",
                            "<tr><td>11649</td><td>1</td><td>female-fiction</td></tr>",
                            "<tr><td>11650</td><td>1</td><td>female-friendship</td></tr>",
                            "<tr><td>11651</td><td>1</td><td>female-genre-authors</td></tr>",
                            "<tr><td>11652</td><td>1</td><td>female-lead</td></tr>",
                            "<tr><td>11653</td><td>1</td><td>female-main-character</td></tr>",
                            "<tr><td>11654</td><td>1</td><td>female-persuasion</td></tr>",
                            "<tr><td>11655</td><td>1</td><td>female-pi</td></tr>",
                            "<tr><td>11656</td><td>1</td><td>female-pov</td></tr>",
                            "<tr><td>11657</td><td>1</td><td>female-povs</td></tr>",
                            "<tr><td>11658</td><td>1</td><td>female-protagonist</td></tr>",
                            "<tr><td>11659</td><td>1</td><td>female-serial-killer</td></tr>",
                            "<tr><td>11660</td><td>1</td><td>female-spy</td></tr>",
                            "<tr><td>11661</td><td>1</td><td>female-writer</td></tr>",
                            "<tr><td>11662</td><td>1</td><td>female-writers</td></tr>",
                            "<tr><td>15331</td><td>1</td><td>important-female-authors</td></tr>",
                            "<tr><td>17079</td><td>1</td><td>kick-ass-female</td></tr>",
                            "<tr><td>24455</td><td>1</td><td>protagonist-female</td></tr>",
                            "<tr><td>28830</td><td>1</td><td>strong-female</td></tr>",
                            "<tr><td>28831</td><td>1</td><td>strong-female-character</td></tr>",
                            "<tr><td>28832</td><td>1</td><td>strong-female-character-s</td></tr>",
                            "<tr><td>28833</td><td>1</td><td>strong-female-characters</td></tr>",
                            "<tr><td>28834</td><td>1</td><td>strong-female-lead</td></tr>",
                            "<tr><td>28835</td><td>1</td><td>strong-female-protagonist</td></tr>",
                            "<tr><td>28836</td><td>1</td><td>strong-female-supporting-characters</td></tr>",
                            "<tr><td>29324</td><td>1</td><td>tbr-ax-female</td></tr>",
                            "</table>"
                        ]
                    }
                }
            ],
            "execution_count": 31
        },
        {
            "cell_type": "markdown",
            "source": [
                "### **Which keyword(s) and tag(s) would you like to explore more?**\n",
                "\n",
                "**woman, female, feminism, suffrage, girl**"
            ],
            "metadata": {
                "azdata_cell_guid": "e9acd8b5-a62b-4ac0-bd07-19915b379ba6"
            },
            "attachments": {}
        },
        {
            "cell_type": "markdown",
            "source": [
                "### **Write a query to return authors, titles, ratings and** **selected tag(s)\\_id.**"
            ],
            "metadata": {
                "azdata_cell_guid": "59b84464-c0bc-4dac-9e02-0c803765b063"
            },
            "attachments": {}
        },
        {
            "cell_type": "code",
            "source": [
                "-- Solution\r\n",
                "\r\n",
                "USE BooksDB\r\n",
                "SELECT\r\n",
                "    authors, \r\n",
                "    title,\r\n",
                "    average_rating\r\n",
                "FROM dbo.books\r\n",
                "OUTER JOIN dbo.tags\r\n",
                "    ON "
            ],
            "metadata": {
                "azdata_cell_guid": "51ffeaaf-6dde-4906-95f3-eb8757babf27",
                "tags": [],
                "language": "sql"
            },
            "outputs": [
                {
                    "output_type": "error",
                    "evalue": "Msg 156, Level 15, State 1, Line 9\r\nIncorrect syntax near the keyword 'JOIN'.",
                    "ename": "",
                    "traceback": []
                },
                {
                    "output_type": "display_data",
                    "data": {
                        "text/html": "Total execution time: 00:00:00.033"
                    },
                    "metadata": {}
                }
            ],
            "execution_count": 33
        },
        {
            "cell_type": "markdown",
            "source": [
                "### **Record your thoughts about why you wrote the query the way you did.**\n",
                "\n",
                "USE BooksDB - Select BooksDB Database to pull info from\n",
                "\n",
                "<span style=\"color: #0000ff;\">SELECT</span>\n",
                "\n",
                "    authors,\n",
                "\n",
                "    title,\n",
                "\n",
                "    average\\_rating - Select the authors, title, and average rating columns\n",
                "\n",
                "  \n",
                "\n",
                "<span style=\"color: #0000ff;\">FROM</span> dbo.books - Select the above columns from dbo.books"
            ],
            "metadata": {
                "azdata_cell_guid": "1e19a72c-1bca-446b-a0c7-a8efbc35dcf1"
            },
            "attachments": {}
        },
        {
            "cell_type": "markdown",
            "source": [
                "# Part 2: Choose Another Month\n",
                "\n",
                "Choose another month and plan at least 2 events / promotions and answer the following questions.\n",
                "\n",
                "Which month did you choose?  October\n",
                "\n",
                "What 2 events / promotions are you highlighting? Cookbook Launch Day (Oct 12) and Halloween (Oct 31)"
            ],
            "metadata": {
                "azdata_cell_guid": "3eaf376d-9de3-4553-a9d0-9caf74ee3d6a"
            },
            "attachments": {}
        },
        {
            "cell_type": "markdown",
            "source": [
                "# Part 3: Summarize your Work\n",
                "\n",
                "For each event write at least one query that joins any two tables in the BooksDB to support your choice and record you thoughts as to why you used the paticlular query. At least one of your queries needs to include a HAVING clause."
            ],
            "metadata": {
                "azdata_cell_guid": "1ba1363a-4f02-4962-a95a-93b80c5926b1"
            },
            "attachments": {}
        },
        {
            "cell_type": "code",
            "source": [
                "-- Event 1 Query"
            ],
            "metadata": {
                "azdata_cell_guid": "f50d32ce-4cb2-4af2-acb1-607777a76cf8",
                "language": "sql"
            },
            "outputs": [],
            "execution_count": null
        },
        {
            "cell_type": "code",
            "source": [
                ""
            ],
            "metadata": {
                "azdata_cell_guid": "5606f7f2-c46b-42d3-ac64-7ae21c3394f8",
                "language": "sql"
            },
            "outputs": [],
            "execution_count": null
        },
        {
            "cell_type": "markdown",
            "source": [
                "### **Summary of event 1:**\n",
                "\n",
                "Double Click to edit."
            ],
            "metadata": {
                "azdata_cell_guid": "3bc72d4c-077b-42d3-9528-9aff8e7b6cf3"
            },
            "attachments": {}
        },
        {
            "cell_type": "code",
            "source": [
                "-- Event 2 Query"
            ],
            "metadata": {
                "azdata_cell_guid": "dca0a98f-065f-4b0e-9d93-fcb01cad668c",
                "language": "sql"
            },
            "outputs": [],
            "execution_count": null
        },
        {
            "cell_type": "code",
            "source": [
                ""
            ],
            "metadata": {
                "azdata_cell_guid": "3aaae3a8-eff7-4b37-8970-2d913a67239b",
                "language": "sql"
            },
            "outputs": [],
            "execution_count": null
        },
        {
            "cell_type": "markdown",
            "source": [
                "### **Summary of event 2:**\n",
                "\n",
                "Double Click to edit."
            ],
            "metadata": {
                "azdata_cell_guid": "99d518dc-cd8b-42d6-9a9d-708771c9aa99"
            },
            "attachments": {}
        }
    ]
}